{
 "cells": [
  {
   "cell_type": "code",
   "execution_count": 1,
   "metadata": {},
   "outputs": [],
   "source": [
    "import pandas as pd\n",
    "import numpy as np\n",
    "from sklearn.model_selection import train_test_split"
   ]
  },
  {
   "cell_type": "code",
   "execution_count": 2,
   "metadata": {},
   "outputs": [],
   "source": [
    "# load in data\n",
    "df_train = pd.read_csv('/home/tomruge/Schreibtisch/Data/Kaggle/playground-series-s4e3/train.csv')\n",
    "df_test = pd.read_csv('/home/tomruge/Schreibtisch/Data/Kaggle/playground-series-s4e3/test.csv')\n"
   ]
  },
  {
   "cell_type": "markdown",
   "metadata": {},
   "source": [
    "-> decision tree performs worse then logistic regression"
   ]
  },
  {
   "cell_type": "code",
   "execution_count": 13,
   "metadata": {},
   "outputs": [],
   "source": [
    "from iterstrat.ml_stratifiers import MultilabelStratifiedKFold\n",
    "from sklearn.tree import DecisionTreeClassifier\n",
    "import optuna\n",
    "from sklearn.metrics import roc_auc_score\n",
    "class model_decision_tree:\n",
    "    def __init__(self, train, test, target, drop = []):\n",
    "        self.train = train\n",
    "        self.test = test\n",
    "        self.target = target\n",
    "        self.drop = drop\n",
    "    \n",
    "    def fit(self, params = {}):\n",
    "        # running fit multiple times for different validation and train sets to get a better estimate for the prediction\n",
    "        predictions = []\n",
    "        for i in range(5):\n",
    "            # MultilabelStratifiedKFold splits 5 times, but the splits are not overlapping\n",
    "            mskf = MultilabelStratifiedKFold(n_splits=3, shuffle=True, random_state=42)\n",
    "            predictions_1_iteration = np.zeros((len(self.train),len(self.target)))\n",
    "            #print('i: ', i)\n",
    "            for fold, (train_index, val_index) in enumerate(mskf.split(self.train.drop(self.target, axis=1), self.train[self.target])):\n",
    "                X_train, X_val = self.train.drop(self.target, axis=1).iloc[train_index], self.train.drop(self.target, axis=1).iloc[val_index]\n",
    "                y_train, y_val = self.train[self.target].iloc[train_index], self.train[self.target].iloc[val_index]\n",
    "\n",
    "                model = DecisionTreeClassifier(random_state = i+fold,**params)\n",
    "                model.fit(X_train, y_train)\n",
    "                predictions_1_iteration[val_index] = model.predict(X_val)  \n",
    "                # print the accuracy of the model of the validation set of all the classes\n",
    "                print('accuracy of the model of the validation set of all the classes: ', model.score(X_val, y_val))\n",
    "            predictions.append(predictions_1_iteration)\n",
    "        # get the mean of the predictions\n",
    "        mean_predictions = np.mean(predictions, axis = 0)\n",
    "        '''print('shape of mean_predictions: ', mean_predictions.shape)\n",
    "        print('mean unique values: ', np.unique(mean_predictions))\n",
    "        print('mean_predictions: ', mean_predictions)'''\n",
    "        # get roc auc score\n",
    "        integral_score = roc_auc_score(self.train[self.target], mean_predictions)\n",
    "        return integral_score, mean_predictions   \n",
    "     \n",
    "    def prediction(self,params):\n",
    "        predictions = []\n",
    "        for i in range(10):\n",
    "            mskf = MultilabelStratifiedKFold(n_splits=3, shuffle=True, random_state=42)\n",
    "            for fold, (train_index, val_index) in enumerate(mskf.split(self.train.drop(self.target, axis=1), self.train[self.target])):\n",
    "                X_train, X_val = self.train.drop(self.target, axis=1).iloc[train_index], self.train.drop(self.target, axis=1).iloc[val_index]\n",
    "                y_train, y_val = self.train[self.target].iloc[train_index], self.train[self.target].iloc[val_index]\n",
    "                model = DecisionTreeClassifier(random_state = i+fold,**params)\n",
    "                model.fit(X_train, y_train)\n",
    "                prediction = model.predict(self.test)\n",
    "                predictions.append(prediction) \n",
    "        # predictions shape\n",
    "        print('predictions shape: ', np.array(predictions).shape)           \n",
    "        mean_predictions = np.mean(predictions, axis = 0)\n",
    "        return mean_predictions\n",
    "    \n",
    "    def objective(self, trial) :\n",
    "        params = {\n",
    "            'max_depth': trial.suggest_int('max_depth', 1, 32),\n",
    "            'min_samples_split': trial.suggest_int('min_samples_split', 2, 32),\n",
    "            'min_samples_leaf': trial.suggest_int('min_samples_leaf', 1, 32)\n",
    "            #'max_features': trial.suggest_categorical('max_features', ['auto', 'sqrt', 'log2']),\n",
    "        }\n",
    "        score, _ = self.fit(params)\n",
    "        return score\n",
    "    \n",
    "    def find_params(self):\n",
    "        print('start finding best params')\n",
    "        study = optuna.create_study(direction='maximize')\n",
    "        study.optimize(self.objective, n_trials=20, n_jobs = -1)\n",
    "        return study.best_params\n",
    "\n",
    "\n",
    "       "
   ]
  },
  {
   "cell_type": "code",
   "execution_count": 4,
   "metadata": {},
   "outputs": [
    {
     "name": "stderr",
     "output_type": "stream",
     "text": [
      "[I 2024-03-10 16:34:56,695] A new study created in memory with name: no-name-a900eecf-cecf-4ffa-8e44-88d94c4d9fb7\n"
     ]
    },
    {
     "name": "stdout",
     "output_type": "stream",
     "text": [
      "start finding best params\n"
     ]
    },
    {
     "name": "stderr",
     "output_type": "stream",
     "text": [
      "[I 2024-03-10 16:35:42,269] Trial 1 finished with value: 0.609843387009957 and parameters: {'max_depth': 4, 'min_samples_split': 31, 'min_samples_leaf': 10}. Best is trial 1 with value: 0.609843387009957.\n",
      "[I 2024-03-10 16:35:54,281] Trial 3 finished with value: 0.6754967334537779 and parameters: {'max_depth': 9, 'min_samples_split': 23, 'min_samples_leaf': 7}. Best is trial 3 with value: 0.6754967334537779.\n",
      "[I 2024-03-10 16:36:00,696] Trial 6 finished with value: 0.6730756204225353 and parameters: {'max_depth': 16, 'min_samples_split': 19, 'min_samples_leaf': 23}. Best is trial 3 with value: 0.6754967334537779.\n",
      "[I 2024-03-10 16:36:09,175] Trial 0 finished with value: 0.6730690468152047 and parameters: {'max_depth': 24, 'min_samples_split': 7, 'min_samples_leaf': 23}. Best is trial 3 with value: 0.6754967334537779.\n",
      "[I 2024-03-10 16:36:10,414] Trial 5 finished with value: 0.6704426357058041 and parameters: {'max_depth': 25, 'min_samples_split': 21, 'min_samples_leaf': 24}. Best is trial 3 with value: 0.6754967334537779.\n",
      "[I 2024-03-10 16:36:11,264] Trial 4 finished with value: 0.6704426357058041 and parameters: {'max_depth': 25, 'min_samples_split': 32, 'min_samples_leaf': 24}. Best is trial 3 with value: 0.6754967334537779.\n",
      "[I 2024-03-10 16:36:12,091] Trial 2 finished with value: 0.670583844279535 and parameters: {'max_depth': 25, 'min_samples_split': 28, 'min_samples_leaf': 14}. Best is trial 3 with value: 0.6754967334537779.\n",
      "[I 2024-03-10 16:36:13,174] Trial 7 finished with value: 0.670555116512466 and parameters: {'max_depth': 19, 'min_samples_split': 20, 'min_samples_leaf': 14}. Best is trial 3 with value: 0.6754967334537779.\n",
      "[I 2024-03-10 16:36:47,505] Trial 8 finished with value: 0.6756010864357174 and parameters: {'max_depth': 19, 'min_samples_split': 27, 'min_samples_leaf': 32}. Best is trial 8 with value: 0.6756010864357174.\n",
      "[I 2024-03-10 16:36:55,550] Trial 9 finished with value: 0.673997352041266 and parameters: {'max_depth': 27, 'min_samples_split': 22, 'min_samples_leaf': 16}. Best is trial 8 with value: 0.6756010864357174.\n",
      "[I 2024-03-10 16:37:01,072] Trial 10 finished with value: 0.669264385431014 and parameters: {'max_depth': 11, 'min_samples_split': 26, 'min_samples_leaf': 12}. Best is trial 8 with value: 0.6756010864357174.\n",
      "[I 2024-03-10 16:37:06,815] Trial 12 finished with value: 0.6581299595999531 and parameters: {'max_depth': 8, 'min_samples_split': 3, 'min_samples_leaf': 22}. Best is trial 8 with value: 0.6756010864357174.\n",
      "[I 2024-03-10 16:37:09,975] Trial 11 finished with value: 0.6728651069661395 and parameters: {'max_depth': 25, 'min_samples_split': 24, 'min_samples_leaf': 17}. Best is trial 8 with value: 0.6756010864357174.\n",
      "[I 2024-03-10 16:37:15,695] Trial 15 finished with value: 0.6722732191264555 and parameters: {'max_depth': 12, 'min_samples_split': 24, 'min_samples_leaf': 2}. Best is trial 8 with value: 0.6756010864357174.\n",
      "[I 2024-03-10 16:37:21,308] Trial 13 finished with value: 0.6696892655085376 and parameters: {'max_depth': 29, 'min_samples_split': 29, 'min_samples_leaf': 4}. Best is trial 8 with value: 0.6756010864357174.\n",
      "[I 2024-03-10 16:37:21,378] Trial 14 finished with value: 0.674328774343863 and parameters: {'max_depth': 22, 'min_samples_split': 10, 'min_samples_leaf': 11}. Best is trial 8 with value: 0.6756010864357174.\n",
      "[I 2024-03-10 16:37:32,110] Trial 16 finished with value: 0.670885405357711 and parameters: {'max_depth': 13, 'min_samples_split': 32, 'min_samples_leaf': 8}. Best is trial 8 with value: 0.6756010864357174.\n",
      "[I 2024-03-10 16:37:33,547] Trial 18 finished with value: 0.6752441299725127 and parameters: {'max_depth': 9, 'min_samples_split': 12, 'min_samples_leaf': 2}. Best is trial 8 with value: 0.6756010864357174.\n",
      "[I 2024-03-10 16:37:34,485] Trial 17 finished with value: 0.6746967180087514 and parameters: {'max_depth': 32, 'min_samples_split': 12, 'min_samples_leaf': 31}. Best is trial 8 with value: 0.6756010864357174.\n",
      "[I 2024-03-10 16:37:37,123] Trial 19 finished with value: 0.6775672705388812 and parameters: {'max_depth': 14, 'min_samples_split': 12, 'min_samples_leaf': 1}. Best is trial 19 with value: 0.6775672705388812.\n"
     ]
    }
   ],
   "source": [
    "# find best params\n",
    "target_columns = ['Pastry','Z_Scratch','K_Scatch','Stains','Dirtiness','Bumps','Other_Faults']\n",
    "drop_columns = ['id']\n",
    "model = model_decision_tree(df_train, df_test, target_columns, drop_columns)\n",
    "best_params = model.find_params()"
   ]
  },
  {
   "cell_type": "code",
   "execution_count": 14,
   "metadata": {},
   "outputs": [
    {
     "name": "stdout",
     "output_type": "stream",
     "text": [
      "accuracy of the model of the validation set of all the classes:  0.4382706414858748\n",
      "accuracy of the model of the validation set of all the classes:  0.4399000936621917\n",
      "accuracy of the model of the validation set of all the classes:  0.4512956603184515\n",
      "accuracy of the model of the validation set of all the classes:  0.4402996722334946\n",
      "accuracy of the model of the validation set of all the classes:  0.4419294411489229\n",
      "accuracy of the model of the validation set of all the classes:  0.44989072744302216\n",
      "accuracy of the model of the validation set of all the classes:  0.43936319650382394\n",
      "accuracy of the model of the validation set of all the classes:  0.4378707461754605\n",
      "accuracy of the model of the validation set of all the classes:  0.4516078676241024\n",
      "accuracy of the model of the validation set of all the classes:  0.43670984860309037\n",
      "accuracy of the model of the validation set of all the classes:  0.4388073680924134\n",
      "accuracy of the model of the validation set of all the classes:  0.45238838588822977\n",
      "accuracy of the model of the validation set of all the classes:  0.4390510379272671\n",
      "accuracy of the model of the validation set of all the classes:  0.4405245082734936\n",
      "accuracy of the model of the validation set of all the classes:  0.4503590384014986\n"
     ]
    }
   ],
   "source": [
    "target_columns = ['Pastry','Z_Scratch','K_Scatch','Stains','Dirtiness','Bumps','Other_Faults']\n",
    "drop_columns = ['id']\n",
    "best_params = {'max_depth': 14, 'min_samples_split': 12, 'min_samples_leaf': 1}\n",
    "# predict and save the predictions\n",
    "model = model_decision_tree(df_train, df_test, target_columns, drop_columns)\n",
    "predicted_values = model.fit(best_params)"
   ]
  },
  {
   "cell_type": "code",
   "execution_count": 38,
   "metadata": {},
   "outputs": [
    {
     "name": "stdout",
     "output_type": "stream",
     "text": [
      "predictions shape:  (30, 12814, 7)\n"
     ]
    }
   ],
   "source": [
    "target_columns = ['Pastry','Z_Scratch','K_Scatch','Stains','Dirtiness','Bumps','Other_Faults']\n",
    "drop_columns = ['id']\n",
    "best_params = {'max_depth': 14, 'min_samples_split': 12, 'min_samples_leaf': 1}\n",
    "# predict and save the predictions\n",
    "model = model_decision_tree(df_train, df_test, target_columns, drop_columns)\n",
    "predicted_values = model.prediction(best_params)\n",
    "\n",
    "# column 1 must be the id column and the following columns must be the predictions, id column should be integer\n",
    "predictions = pd.DataFrame(np.column_stack((df_test['id'].astype('Int32'), predicted_values)), columns = ['id', 'Pastry','Z_Scratch','K_Scatch','Stains','Dirtiness','Bumps','Other_Faults'])\n",
    "predictions.to_csv('/home/tomruge/Schreibtisch/Data/Kaggle/playground-series-s4e3/predictions.csv', index = False)\n"
   ]
  }
 ],
 "metadata": {
  "kernelspec": {
   "display_name": "env3.12.2",
   "language": "python",
   "name": "python3"
  },
  "language_info": {
   "codemirror_mode": {
    "name": "ipython",
    "version": 3
   },
   "file_extension": ".py",
   "mimetype": "text/x-python",
   "name": "python",
   "nbconvert_exporter": "python",
   "pygments_lexer": "ipython3",
   "version": "3.12.2"
  }
 },
 "nbformat": 4,
 "nbformat_minor": 2
}
