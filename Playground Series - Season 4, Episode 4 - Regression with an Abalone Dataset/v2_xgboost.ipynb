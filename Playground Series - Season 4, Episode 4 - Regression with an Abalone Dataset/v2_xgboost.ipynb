{
 "cells": [
  {
   "cell_type": "markdown",
   "metadata": {},
   "source": [
    "Notebook inspried by https://www.kaggle.com/code/ambrosm/pss4e4-eda-which-makes-sense/notebook"
   ]
  },
  {
   "cell_type": "code",
   "execution_count": 11,
   "metadata": {},
   "outputs": [
    {
     "name": "stdout",
     "output_type": "stream",
     "text": [
      "There are no missing values in train.\n",
      "There are no missing values in test.\n",
      "Train shape: (90615, 9)   test shape: (60411, 8)\n"
     ]
    }
   ],
   "source": [
    "import pandas as pd\n",
    "import numpy as np\n",
    "import matplotlib.pyplot as plt\n",
    "import seaborn as sns\n",
    "from colorama import Fore, Style\n",
    "import xgboost\n",
    "import lightgbm\n",
    "import catboost\n",
    "\n",
    "from sklearn.base import clone\n",
    "from sklearn.model_selection import KFold, StratifiedKFold \n",
    "from sklearn.pipeline import make_pipeline, Pipeline\n",
    "from sklearn.compose import TransformedTargetRegressor, ColumnTransformer\n",
    "from sklearn.preprocessing import StandardScaler, OneHotEncoder, PolynomialFeatures, SplineTransformer\n",
    "from sklearn.kernel_approximation import Nystroem\n",
    "from sklearn.linear_model import Ridge, LinearRegression\n",
    "from sklearn.isotonic import IsotonicRegression\n",
    "from sklearn.ensemble import ExtraTreesRegressor, RandomForestRegressor, HistGradientBoostingRegressor\n",
    "from sklearn.neighbors import KNeighborsRegressor\n",
    "from sklearn.metrics import mean_squared_log_error\n",
    "\n",
    "train = pd.read_csv('/home/tomruge/Schreibtisch/Data/Kaggle/playground-series-s4e4/train.csv', index_col='id')\n",
    "test = pd.read_csv('/home/tomruge/Schreibtisch/Data/Kaggle/playground-series-s4e4/test.csv', index_col='id')\n",
    "\n",
    "train['Sex'] = train.Sex.astype('category')\n",
    "test['Sex'] = test.Sex.astype(train.Sex.dtype)\n",
    "\n",
    "if not train.isna().any().any():\n",
    "    print('There are no missing values in train.')\n",
    "if not test.isna().any().any():\n",
    "    print('There are no missing values in test.')\n",
    "    \n",
    "print(f\"Train shape: {train.shape}   test shape: {test.shape}\")\n",
    "    \n",
    "numeric_features = ['Length', 'Diameter', 'Height', 'Whole weight', 'Whole weight.1', 'Whole weight.2', 'Shell weight']\n",
    "numeric_vars = numeric_features + ['Rings']\n",
    "\n",
    "# Configuration\n",
    "COMPUTE_TEST_PRED = True\n",
    "USE_ORIGINAL_DATA = True\n",
    "\n",
    "# Containers for results\n",
    "oof, test_pred = {}, {}"
   ]
  },
  {
   "cell_type": "code",
   "execution_count": 12,
   "metadata": {},
   "outputs": [
    {
     "name": "stdout",
     "output_type": "stream",
     "text": [
      "Requirement already satisfied: ucimlrepo in /home/tomruge/anaconda3/envs/env3.12.2/lib/python3.12/site-packages (0.0.6)\n",
      "Original dataset shape: (4177, 9)\n"
     ]
    }
   ],
   "source": [
    "if USE_ORIGINAL_DATA:\n",
    "    !pip install ucimlrepo\n",
    "\n",
    "    from ucimlrepo import fetch_ucirepo \n",
    "\n",
    "    # fetch dataset \n",
    "    abalone = fetch_ucirepo(id=1) \n",
    "\n",
    "    # data (as pandas dataframes)\n",
    "    original_dataset = pd.concat([abalone.data.features, abalone.data.targets], axis = 1).rename({\n",
    "        'Whole_weight' : 'Whole weight',\n",
    "        'Shucked_weight' : 'Whole weight.1',\n",
    "        'Viscera_weight' : 'Whole weight.2',\n",
    "        'Shell_weight' : 'Shell weight'\n",
    "    }, axis = 1)\n",
    "    original_dataset['Sex'] = original_dataset.Sex.astype(train.Sex.dtype)\n",
    "    print(\"Original dataset shape:\", original_dataset.shape)"
   ]
  },
  {
   "cell_type": "code",
   "execution_count": 13,
   "metadata": {},
   "outputs": [],
   "source": [
    "log_features = []\n",
    "for col in numeric_features:\n",
    "    train[f'log_{col}'] = np.log1p(train[col])\n",
    "    test[f'log_{col}'] = np.log1p(test[col])\n",
    "    if USE_ORIGINAL_DATA:\n",
    "        original_dataset[f'log_{col}'] = np.log1p(original_dataset[col])\n",
    "    log_features.append(f'log_{col}')"
   ]
  },
  {
   "cell_type": "code",
   "execution_count": 14,
   "metadata": {},
   "outputs": [],
   "source": [
    "\n",
    "\n",
    "kf = StratifiedKFold(n_splits=5, shuffle=True, random_state=1)\n",
    "\n",
    "def cross_validate(model, label, features=test.columns, n_repeats=1):\n",
    "    \"\"\"Compute out-of-fold and test predictions for a given model.\n",
    "    \n",
    "    Out-of-fold and test predictions are stored in the global variables\n",
    "    oof and test_pred, respectively.\n",
    "    \n",
    "    If n_repeats > 1, the model is trained several times with different seeds.\n",
    "    \n",
    "    All predictions are clipped to the interval [1, 29].\n",
    "    \"\"\"\n",
    "    scores = []\n",
    "    oof_preds = np.full_like(train.Rings, np.nan, dtype=float)\n",
    "    for fold, (idx_tr, idx_va) in enumerate(kf.split(train, train.Rings)):\n",
    "        X_tr = train.iloc[idx_tr][features]\n",
    "        X_va = train.iloc[idx_va][features]\n",
    "        y_tr = train.iloc[idx_tr].Rings\n",
    "        y_va = train.iloc[idx_va].Rings\n",
    "        \n",
    "        if USE_ORIGINAL_DATA:\n",
    "            X_tr = pd.concat([X_tr, original_dataset[features]], axis=0)\n",
    "            y_tr = pd.concat([y_tr, original_dataset.Rings], axis=0)\n",
    "            \n",
    "        y_pred = np.zeros_like(y_va, dtype=float)\n",
    "        for i in range(n_repeats):\n",
    "            m = clone(model)\n",
    "            if n_repeats > 1:\n",
    "                mm = m\n",
    "                if isinstance(mm, Pipeline):\n",
    "                    mm = mm[-1]\n",
    "                if isinstance(mm, TransformedTargetRegressor):\n",
    "                    mm = mm.regressor\n",
    "                mm.set_params(random_state=i)\n",
    "            m.fit(X_tr, y_tr)\n",
    "            y_pred += m.predict(X_va)\n",
    "        y_pred /= n_repeats\n",
    "        y_pred = y_pred.clip(1, 29)\n",
    "        \n",
    "#         residuals = np.log1p(y_va) - np.log1p(y_pred)\n",
    "#         plt.figure(figsize=(6, 2))\n",
    "#         plt.scatter(y_pred, residuals, s=1)\n",
    "#         plt.axhline(0, color='k')\n",
    "#         plt.show()\n",
    "        \n",
    "        score = mean_squared_log_error(y_va, y_pred, squared=False)\n",
    "        print(f\"# Fold {fold}: RMSLE={score:.5f}\")\n",
    "        scores.append(score)\n",
    "        oof_preds[idx_va] = y_pred\n",
    "    print(f\"{Fore.GREEN}# Overall: {np.array(scores).mean():.5f} {label}{Style.RESET_ALL}\")\n",
    "    oof[label] = oof_preds\n",
    "    \n",
    "    if COMPUTE_TEST_PRED:\n",
    "        # Retrain n_repeats times with the whole dataset and average\n",
    "        y_pred = np.zeros(len(test), dtype=float)\n",
    "        X_tr = train[features]\n",
    "        y_tr = train.Rings\n",
    "        if USE_ORIGINAL_DATA:\n",
    "            X_tr = pd.concat([X_tr, original_dataset[features]], axis=0)\n",
    "            y_tr = pd.concat([y_tr, original_dataset.Rings], axis=0)\n",
    "        for i in range(n_repeats):\n",
    "            m = clone(model)\n",
    "            if n_repeats > 1:\n",
    "                mm = m\n",
    "                if isinstance(mm, Pipeline):\n",
    "                    mm = mm[-1]\n",
    "                if isinstance(mm, TransformedTargetRegressor):\n",
    "                    mm = mm.regressor\n",
    "                mm.set_params(random_state=i)\n",
    "            m.fit(X_tr, y_tr)\n",
    "            y_pred += m.predict(test[features])\n",
    "        y_pred /= n_repeats\n",
    "        y_pred = y_pred.clip(1, 29)\n",
    "        test_pred[label] = y_pred\n",
    "    "
   ]
  },
  {
   "cell_type": "markdown",
   "metadata": {},
   "source": [
    "Models"
   ]
  },
  {
   "cell_type": "code",
   "execution_count": 15,
   "metadata": {},
   "outputs": [
    {
     "name": "stdout",
     "output_type": "stream",
     "text": [
      "# Fold 0: RMSLE=0.15127\n",
      "# Fold 1: RMSLE=0.15290\n",
      "# Fold 2: RMSLE=0.15337\n",
      "# Fold 3: RMSLE=0.15325\n",
      "# Fold 4: RMSLE=0.15298\n",
      "\u001b[32m# Overall: 0.15275 Poly-Ridge\u001b[0m\n"
     ]
    }
   ],
   "source": [
    "# PolynomialFeatures + Ridge\n",
    "model = make_pipeline(ColumnTransformer([('ohe', OneHotEncoder(drop='first'), ['Sex'])],\n",
    "                                        remainder='passthrough'),\n",
    "                      StandardScaler(),\n",
    "                      PolynomialFeatures(degree=3),\n",
    "                      TransformedTargetRegressor(Ridge(100),\n",
    "                                                 func=np.log1p,\n",
    "                                                 inverse_func=np.expm1))\n",
    "cross_validate(model, 'Poly-Ridge', numeric_features + log_features + ['Sex'])\n",
    "# Overall: 0.15293 Poly-Ridge\n",
    "\n"
   ]
  },
  {
   "cell_type": "code",
   "execution_count": 16,
   "metadata": {},
   "outputs": [
    {
     "name": "stdout",
     "output_type": "stream",
     "text": [
      "# Fold 0: RMSLE=0.14638\n",
      "# Fold 1: RMSLE=0.14834\n",
      "# Fold 2: RMSLE=0.14914\n",
      "# Fold 3: RMSLE=0.14894\n",
      "# Fold 4: RMSLE=0.14851\n",
      "\u001b[32m# Overall: 0.14826 Catboost\u001b[0m\n"
     ]
    }
   ],
   "source": [
    "\n",
    "\n",
    "# Catboost\n",
    "# Hyperparameters were tuned with Optuna\n",
    "cb_params = {'grow_policy': 'SymmetricTree', 'n_estimators': 1000, 'learning_rate': 0.128912681527133, 'l2_leaf_reg': 1.836927907521674, 'max_depth': 6, 'colsample_bylevel': 0.6775373040510968, 'random_strength': 0, 'boost_from_average': True, 'loss_function': 'RMSE', 'cat_features': ['Sex'], 'verbose': False} # 0.14847\n",
    "model = TransformedTargetRegressor(catboost.CatBoostRegressor(**cb_params),\n",
    "                                                 func=np.log1p,\n",
    "                                                 inverse_func=np.expm1)\n",
    "cross_validate(model, 'Catboost', log_features + ['Sex'], n_repeats=5)\n",
    "# Overall: 0.14851 Catboost\n",
    "\n"
   ]
  },
  {
   "cell_type": "code",
   "execution_count": 17,
   "metadata": {},
   "outputs": [
    {
     "name": "stdout",
     "output_type": "stream",
     "text": [
      "# Fold 0: RMSLE=0.14600\n",
      "# Fold 1: RMSLE=0.14814\n",
      "# Fold 2: RMSLE=0.14880\n",
      "# Fold 3: RMSLE=0.14848\n",
      "# Fold 4: RMSLE=0.14837\n",
      "\u001b[32m# Overall: 0.14796 LightGBM-sqrt\u001b[0m\n"
     ]
    }
   ],
   "source": [
    "\n",
    "\n",
    "# LightGBM with sqrt transformation\n",
    "# Hyperparameters were tuned with Optuna\n",
    "lgbm_params = {'n_estimators': 1000, 'learning_rate': 0.038622511348472645, 'colsample_bytree': 0.5757189042456357, 'reg_lambda': 0.09664116733307193, 'min_child_samples': 87, 'num_leaves': 43, 'verbose': -1} # 0.14804\n",
    "model = TransformedTargetRegressor(lightgbm.LGBMRegressor(**lgbm_params),\n",
    "                                                 func=np.sqrt,\n",
    "                                                 inverse_func=np.square)\n",
    "cross_validate(model, 'LightGBM-sqrt', numeric_features + ['Sex'], n_repeats=5)\n",
    "\n"
   ]
  },
  {
   "cell_type": "code",
   "execution_count": 18,
   "metadata": {},
   "outputs": [
    {
     "name": "stdout",
     "output_type": "stream",
     "text": [
      "# Fold 0: RMSLE=0.14583\n",
      "# Fold 1: RMSLE=0.14799\n",
      "# Fold 2: RMSLE=0.14866\n",
      "# Fold 3: RMSLE=0.14843\n",
      "# Fold 4: RMSLE=0.14819\n",
      "\u001b[32m# Overall: 0.14782 LightGBM\u001b[0m\n"
     ]
    }
   ],
   "source": [
    "\n",
    "\n",
    "# LightGBM\n",
    "# Hyperparameters were tuned with Optuna\n",
    "lgbm_params = {'n_estimators': 1000, 'learning_rate': 0.038622511348472645, 'colsample_bytree': 0.5757189042456357, 'reg_lambda': 0.09664116733307193, 'min_child_samples': 87, 'num_leaves': 43, 'verbose': -1} # 0.14804\n",
    "model = TransformedTargetRegressor(lightgbm.LGBMRegressor(**lgbm_params),\n",
    "                                                 func=np.log1p,\n",
    "                                                 inverse_func=np.expm1)\n",
    "cross_validate(model, 'LightGBM', numeric_features + ['Sex'], n_repeats=5)\n",
    "# Overall: 0.14804 LightGBM\n",
    "\n"
   ]
  },
  {
   "cell_type": "code",
   "execution_count": 19,
   "metadata": {},
   "outputs": [
    {
     "name": "stdout",
     "output_type": "stream",
     "text": [
      "# Fold 0: RMSLE=0.14699\n",
      "# Fold 1: RMSLE=0.14876\n",
      "# Fold 2: RMSLE=0.14945\n",
      "# Fold 3: RMSLE=0.14936\n",
      "# Fold 4: RMSLE=0.14881\n",
      "\u001b[32m# Overall: 0.14868 XGBoost-RMSLE\u001b[0m\n"
     ]
    }
   ],
   "source": [
    "\n",
    "\n",
    "# XGBoost with RMSLE objective\n",
    "# Hyperparameters were tuned with Optuna\n",
    "xgb_params = {'grow_policy': 'depthwise', 'n_estimators': 500, 'learning_rate': 0.0896765799823656, 'max_depth': 8, 'reg_lambda': 1.003764844090402, 'min_child_weight': 0.20627702562667777, 'colsample_bytree': 0.5142803343048419, 'objective': 'reg:squaredlogerror', 'tree_method': 'hist', 'gamma': 0, 'enable_categorical': True} # 0.14875\n",
    "model = xgboost.XGBRegressor(**xgb_params)\n",
    "cross_validate(model, 'XGBoost-RMSLE', numeric_features + ['Sex'], n_repeats=5)\n",
    "\n"
   ]
  },
  {
   "cell_type": "code",
   "execution_count": 20,
   "metadata": {},
   "outputs": [
    {
     "name": "stdout",
     "output_type": "stream",
     "text": [
      "Ensemble weights\n",
      "Poly-Ridge       0.007237\n",
      "Catboost         0.280214\n",
      "LightGBM-sqrt    0.317594\n",
      "LightGBM         0.305431\n",
      "XGBoost-RMSLE    0.092825\n",
      "dtype: float64\n",
      "Total weight: 1.0033004824753415\n",
      "Intercept: -0.009221257172165043\n",
      "Score: 0.14765\n"
     ]
    },
    {
     "data": {
      "image/png": "[encoded data removed]",
      "text/plain": [
       "<Figure size 640x480 with 1 Axes>"
      ]
     },
     "metadata": {},
     "output_type": "display_data"
    }
   ],
   "source": [
    "members = [name for name in oof.keys() if 'Stack' not in name]\n",
    "\n",
    "X = np.log1p(np.column_stack([oof[name] for name in members]))\n",
    "model = TransformedTargetRegressor(Ridge(positive=True, tol=1e-6),\n",
    "                                   func=np.log1p,\n",
    "                                   inverse_func=np.expm1)\n",
    "model.fit(X, train.Rings)\n",
    "print('Ensemble weights')\n",
    "weights = pd.Series(model.regressor_.coef_, index=members)\n",
    "print(weights)\n",
    "print('Total weight:', weights.sum())\n",
    "print('Intercept:', model.regressor_.intercept_)\n",
    "oof['Stack'] = model.predict(X) # not really out-of-fold...\n",
    "print(f\"Score: {mean_squared_log_error(train.Rings, oof['Stack'], squared=False):.5f}\")\n",
    "\n",
    "# Pie chart\n",
    "weights = weights[weights >= 0.005] # hide small weights in pie chart\n",
    "plt.pie(weights, labels=weights.index, autopct=\"%.0f%%\")\n",
    "plt.title('Ensemble weights')\n",
    "plt.show()\n",
    "\n",
    "# Test predictions\n",
    "if COMPUTE_TEST_PRED:\n",
    "    X = np.log1p(np.column_stack([test_pred[name] for name in members]))\n",
    "    test_pred['Stack'] = model.predict(X)\n"
   ]
  },
  {
   "cell_type": "code",
   "execution_count": 21,
   "metadata": {},
   "outputs": [
    {
     "name": "stdout",
     "output_type": "stream",
     "text": [
      "id,Rings\n",
      "90615,9.660600868120667\n",
      "90616,9.73774241884161\n",
      "90617,9.842901016475754\n",
      "90618,10.575212607339846\n",
      "90619,7.622361277264611\n",
      "90620,9.30623534948487\n",
      "90621,11.046993659017348\n",
      "90622,6.122991911745492\n",
      "90623,7.911552166289258\n"
     ]
    }
   ],
   "source": [
    "if COMPUTE_TEST_PRED:\n",
    "    sub = pd.Series(test_pred['Stack'], index=test.index, name='Rings')\n",
    "    sub.to_csv('submission.csv')\n",
    "    !head submission.csv\n"
   ]
  },
  {
   "cell_type": "markdown",
   "metadata": {},
   "source": [
    "-> Great Notebook I need to work more on it and try to imporve this one"
   ]
  }
 ],
 "metadata": {
  "kernelspec": {
   "display_name": "env3.12.2",
   "language": "python",
   "name": "python3"
  },
  "language_info": {
   "codemirror_mode": {
    "name": "ipython",
    "version": 3
   },
   "file_extension": ".py",
   "mimetype": "text/x-python",
   "name": "python",
   "nbconvert_exporter": "python",
   "pygments_lexer": "ipython3",
   "version": "3.12.2"
  }
 },
 "nbformat": 4,
 "nbformat_minor": 2
}
